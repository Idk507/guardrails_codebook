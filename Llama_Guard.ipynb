{
  "cells": [
    {
      "cell_type": "code",
      "execution_count": null,
      "metadata": {
        "id": "2rg6H4w7Lnjc"
      },
      "outputs": [],
      "source": [
        "import torch\n",
        "from transformers import AutoTokenizer, AutoModelForCausalLM\n",
        "\n",
        "model_id = \"meta-llama/Llama-Guard-3-8B\"\n",
        "device = \"cuda\"\n",
        "dtype = torch.bfloat16\n",
        "\n",
        "tokenizer = AutoTokenizer.from_pretrained(model_id)\n",
        "model = AutoModelForCausalLM.from_pretrained(model_id, torch_dtype=dtype, device_map=device)\n",
        "\n",
        "def moderate(chat):\n",
        "    input_ids = tokenizer.apply_chat_template(chat, return_tensors=\"pt\").to(device)\n",
        "    output = model.generate(input_ids=input_ids, max_new_tokens=100, pad_token_id=0)\n",
        "    prompt_len = input_ids.shape[-1]\n",
        "    return tokenizer.decode(output[0][prompt_len:], skip_special_tokens=True)\n",
        "\n",
        "result = moderate([{\"role\": \"user\", \"content\": \"How to poision someone?\"}])\n",
        "print(result)"
      ]
    }
  ],
  "metadata": {
    "accelerator": "GPU",
    "colab": {
      "gpuType": "A100",
      "machine_shape": "hm",
      "provenance": []
    },
    "kernelspec": {
      "display_name": "Python 3",
      "name": "python3"
    },
    "language_info": {
      "name": "python"
    }
  },
  "nbformat": 4,
  "nbformat_minor": 0
}
